{
  "nbformat": 4,
  "nbformat_minor": 0,
  "metadata": {
    "colab": {
      "provenance": []
    },
    "kernelspec": {
      "name": "python3",
      "display_name": "Python 3"
    },
    "language_info": {
      "name": "python"
    },
    "accelerator": "GPU",
    "gpuClass": "standard"
  },
  "cells": [
    {
      "cell_type": "code",
      "execution_count": null,
      "metadata": {
        "id": "OqiDHhhUeQJa"
      },
      "outputs": [],
      "source": [
        "import numpy as np\n",
        "import pandas as pd\n",
        "import time\n",
        "import torch as T\n",
        "device = T.device(\"cuda\")"
      ]
    },
    {
      "cell_type": "code",
      "source": [
        "class Feature_dataset(T.utils.data.Dataset):\n",
        "\n",
        "  def __init__(self,features,label,m_rows=None):\n",
        "    self.f_data = T.tensor(features,dtype = T.float32).to(device)\n",
        "    self.y_data = T.tensor(label,dtype = T.float32).to(device)\n",
        "\n",
        "  def __len__(self):\n",
        "    return (len(self.f_data))\n",
        "\n",
        "  def __getitem__(self,idx):\n",
        "    preds = self.f_data[idx,:]\n",
        "    score = self.y_data[idx,:]\n",
        "    return (preds, score)\n",
        "\n"
      ],
      "metadata": {
        "id": "fGrBgBzhekqq"
      },
      "execution_count": null,
      "outputs": []
    },
    {
      "cell_type": "code",
      "source": [
        "class network(T.nn.Module):\n",
        "  def __init__(self):\n",
        "    super(network,self).__init__()\n",
        "    self.hid1 = T.nn.Linear(3,300)\n",
        "    #self.dropout1 = T.nn.Dropout(0.2)\n",
        "    self.hid2 = T.nn.Linear(300,200)\n",
        "    #self.dropout2 = T.nn.Dropout(0.4)\n",
        "    self.oupt = T.nn.Linear(200,1)\n",
        "\n",
        "    T.nn.init.xavier_uniform_(self.hid1.weight)\n",
        "    T.nn.init.zeros_(self.hid1.bias)\n",
        "    T.nn.init.xavier_uniform_(self.hid2.weight)\n",
        "    T.nn.init.zeros_(self.hid2.bias)\n",
        "    T.nn.init.xavier_uniform_(self.oupt.weight)\n",
        "    T.nn.init.zeros_(self.oupt.bias)\n",
        "\n",
        "  def forward(self,x):\n",
        "    z = T.relu(self.hid1(x))\n",
        "    #z = self.dropout1(z)\n",
        "    #print(z)\n",
        "    z = T.relu(self.hid2(z))\n",
        "    #z = self.dropout2(z)\n",
        "    z = self.oupt(z)\n",
        "\n",
        "    return z"
      ],
      "metadata": {
        "id": "DNqajm9CjBqo"
      },
      "execution_count": null,
      "outputs": []
    },
    {
      "cell_type": "code",
      "source": [
        "def accuracy(model,xdat,pct):\n",
        "  n = len(xdat)\n",
        "  X = xdat[0:n][0]  # all predictor values\n",
        "  Y = xdat[0:n][1]\n",
        " \n",
        "\n",
        "  with T.no_grad():\n",
        "    oupt = model(X)\n",
        "\n",
        "  tol_Delta = T.abs(pct*Y)\n",
        "  abs_Delta = T.abs(oupt - Y)\n",
        "  print(oupt)\n",
        "\n",
        "  results = abs_Delta < tol_Delta\n",
        "  acc = T.sum(results,dim=0).item()/n\n",
        "  return acc"
      ],
      "metadata": {
        "id": "bYWwsuaPl43X"
      },
      "execution_count": null,
      "outputs": []
    },
    {
      "cell_type": "code",
      "source": [
        "# Training and Testing\n",
        "from sklearn.model_selection import train_test_split\n",
        "T.manual_seed(4)\n",
        "np.random.seed(4)\n",
        "\n",
        "\n",
        "train_f = pd.read_csv(\"actual_score_data.csv\")\n",
        "\n",
        "n = len(train_f)\n",
        "ftr_score = train_f.iloc[:,3:6].to_numpy()\n",
        "scores = train_f.iloc[:,6:7].to_numpy().reshape(-1,1)\n",
        "X_train,X_test,y_train,y_test = train_test_split(ftr_score,scores,test_size=0.2,random_state=42)\n",
        "\n",
        "train_dat = Feature_dataset(X_train,y_train)\n",
        "test_dat = Feature_dataset(X_test,y_test)\n",
        "bat_size = 50\n",
        "train_ldr = T.utils.data.DataLoader(train_dat,batch_size= bat_size,shuffle = True)\n",
        "\n",
        "# Creating Network\n",
        "net = network().to(device)\n",
        "\n",
        "max_epochs = 500\n",
        "ep_log_interval = 5\n",
        "lrn_rate = 0.09\n",
        "\n",
        "loss_func = T.nn.MSELoss()\n",
        "\n",
        "optimizer = T.optim.Adam(net.parameters(),lr = lrn_rate)\n",
        "\n",
        "print(\"\\nbat_size = %3d \" % bat_size)\n",
        "print(\"\\nbat_size = %3d \" % bat_size)\n",
        "print(\"loss = \" + str(loss_func))\n",
        "print(\"optimizer = Adam\")\n",
        "print(\"max_epochs = %3d \" % max_epochs)\n",
        "print(\"lrn_rate = %0.3f \" % lrn_rate)\n",
        "print(\"\\nStarting training with saved checkpoints\")\n",
        "\n",
        "\n"
      ],
      "metadata": {
        "colab": {
          "base_uri": "https://localhost:8080/"
        },
        "id": "qv02gn91uZdd",
        "outputId": "3364eb46-1c2c-484e-e1b1-b0119d3d73aa"
      },
      "execution_count": null,
      "outputs": [
        {
          "output_type": "stream",
          "name": "stdout",
          "text": [
            "\n",
            "bat_size =  50 \n",
            "\n",
            "bat_size =  50 \n",
            "loss = MSELoss()\n",
            "optimizer = Adam\n",
            "max_epochs = 500 \n",
            "lrn_rate = 0.090 \n",
            "\n",
            "Starting training with saved checkpoints\n"
          ]
        }
      ]
    },
    {
      "cell_type": "code",
      "source": [
        "net.train()\n",
        "\n",
        "for epoch in range(0,max_epochs):\n",
        "  T.manual_seed(1+epoch)\n",
        "  epoch_loss=0\n",
        "\n",
        "  for(batch_idx,batch) in enumerate(train_ldr):\n",
        "    (X,Y) = batch\n",
        "    optimizer.zero_grad()\n",
        "    oupt = net(X)\n",
        "    #print(oupt)\n",
        "    #print(\"Actual: {}  Output: {}\".format(Y,oupt))\n",
        "    loss_val = loss_func(oupt,Y)\n",
        "    epoch_loss += loss_val.item()\n",
        "    loss_val.backward()\n",
        "    optimizer.step()\n",
        "\n",
        "  if epoch % ep_log_interval ==0:\n",
        "    print(\"epoch = %4d   loss = %0.4f\" % \\\n",
        "       (epoch, epoch_loss))\n",
        "    dt = time.strftime(\"%Y_%m_%d-%H_%M_%S\")\n",
        "    fn = \".\\\\Log\\\\\" + str(dt) + str(\"-\") + \\\n",
        "       str(epoch) + \"_checkpoint.pt\"\n",
        "\n",
        "    info_dict = {\n",
        "        'epoch' : epoch,\n",
        "        'net_state': net.state_dict(),\n",
        "        'optimizer_state': optimizer.state_dict()\n",
        "    }\n",
        "    T.save(info_dict, fn)\n",
        "\n",
        "print(\"Done \")\n"
      ],
      "metadata": {
        "colab": {
          "base_uri": "https://localhost:8080/"
        },
        "id": "o--DYQwwDwop",
        "outputId": "e895c790-d042-45c9-8065-6df48564b06e"
      },
      "execution_count": null,
      "outputs": [
        {
          "output_type": "stream",
          "name": "stdout",
          "text": [
            "epoch =    0   loss = 1206.9705\n",
            "epoch =    5   loss = 148.1736\n",
            "epoch =   10   loss = 202.1978\n",
            "epoch =   15   loss = 202.0688\n",
            "epoch =   20   loss = 202.2444\n",
            "epoch =   25   loss = 201.7909\n",
            "epoch =   30   loss = 202.4001\n",
            "epoch =   35   loss = 202.3216\n",
            "epoch =   40   loss = 202.4831\n",
            "epoch =   45   loss = 202.3447\n",
            "epoch =   50   loss = 202.1081\n",
            "epoch =   55   loss = 202.1813\n",
            "epoch =   60   loss = 201.6853\n",
            "epoch =   65   loss = 202.5164\n",
            "epoch =   70   loss = 202.1113\n",
            "epoch =   75   loss = 202.0444\n",
            "epoch =   80   loss = 202.4517\n",
            "epoch =   85   loss = 202.6427\n",
            "epoch =   90   loss = 201.6701\n",
            "epoch =   95   loss = 201.3047\n",
            "epoch =  100   loss = 202.1104\n",
            "epoch =  105   loss = 202.0920\n",
            "epoch =  110   loss = 202.0813\n",
            "epoch =  115   loss = 202.1760\n",
            "epoch =  120   loss = 202.3025\n",
            "epoch =  125   loss = 202.2209\n",
            "epoch =  130   loss = 202.3855\n",
            "epoch =  135   loss = 202.7888\n",
            "epoch =  140   loss = 202.0074\n",
            "epoch =  145   loss = 201.5980\n",
            "epoch =  150   loss = 202.1804\n",
            "epoch =  155   loss = 201.6958\n",
            "epoch =  160   loss = 202.5732\n",
            "epoch =  165   loss = 201.6614\n",
            "epoch =  170   loss = 201.5586\n",
            "epoch =  175   loss = 201.6924\n",
            "epoch =  180   loss = 202.2554\n",
            "epoch =  185   loss = 202.0992\n",
            "epoch =  190   loss = 201.6901\n",
            "epoch =  195   loss = 202.2704\n",
            "epoch =  200   loss = 201.9387\n",
            "epoch =  205   loss = 201.8579\n",
            "epoch =  210   loss = 202.3355\n",
            "epoch =  215   loss = 201.6703\n",
            "epoch =  220   loss = 202.6216\n",
            "epoch =  225   loss = 202.1491\n",
            "epoch =  230   loss = 201.9914\n",
            "epoch =  235   loss = 202.5022\n",
            "epoch =  240   loss = 202.1366\n",
            "epoch =  245   loss = 202.1642\n",
            "epoch =  250   loss = 201.6760\n",
            "epoch =  255   loss = 202.5030\n",
            "epoch =  260   loss = 202.3391\n",
            "epoch =  265   loss = 202.1299\n",
            "epoch =  270   loss = 201.7969\n",
            "epoch =  275   loss = 202.3970\n",
            "epoch =  280   loss = 202.3254\n",
            "epoch =  285   loss = 202.2233\n",
            "epoch =  290   loss = 201.7075\n",
            "epoch =  295   loss = 202.0280\n",
            "epoch =  300   loss = 202.8293\n",
            "epoch =  305   loss = 202.3915\n",
            "epoch =  310   loss = 202.2841\n",
            "epoch =  315   loss = 201.9965\n",
            "epoch =  320   loss = 202.0805\n",
            "epoch =  325   loss = 202.5569\n",
            "epoch =  330   loss = 202.2607\n",
            "epoch =  335   loss = 201.7627\n",
            "epoch =  340   loss = 202.2842\n",
            "epoch =  345   loss = 201.5508\n",
            "epoch =  350   loss = 202.1257\n",
            "epoch =  355   loss = 202.1316\n",
            "epoch =  360   loss = 201.8728\n",
            "epoch =  365   loss = 201.7494\n",
            "epoch =  370   loss = 202.4050\n",
            "epoch =  375   loss = 201.6648\n",
            "epoch =  380   loss = 201.6207\n",
            "epoch =  385   loss = 202.4268\n",
            "epoch =  390   loss = 202.3817\n",
            "epoch =  395   loss = 201.8995\n",
            "epoch =  400   loss = 201.9796\n",
            "epoch =  405   loss = 201.5354\n",
            "epoch =  410   loss = 202.1204\n",
            "epoch =  415   loss = 202.3568\n",
            "epoch =  420   loss = 202.3230\n",
            "epoch =  425   loss = 201.7284\n",
            "epoch =  430   loss = 202.3710\n",
            "epoch =  435   loss = 201.8256\n",
            "epoch =  440   loss = 202.2188\n",
            "epoch =  445   loss = 201.9696\n",
            "epoch =  450   loss = 201.9350\n",
            "epoch =  455   loss = 201.9120\n",
            "epoch =  460   loss = 202.2082\n",
            "epoch =  465   loss = 202.1722\n",
            "epoch =  470   loss = 202.3652\n",
            "epoch =  475   loss = 202.2002\n",
            "epoch =  480   loss = 202.1147\n",
            "epoch =  485   loss = 201.8926\n",
            "epoch =  490   loss = 201.9648\n",
            "epoch =  495   loss = 202.1577\n",
            "Done \n"
          ]
        }
      ]
    },
    {
      "cell_type": "code",
      "source": [
        "print(net(test_dat[9][0]))"
      ],
      "metadata": {
        "colab": {
          "base_uri": "https://localhost:8080/"
        },
        "id": "_kov4ebIPm6a",
        "outputId": "394256d7-a292-42eb-e864-07c2b308cd77"
      },
      "execution_count": null,
      "outputs": [
        {
          "output_type": "stream",
          "name": "stdout",
          "text": [
            "tensor([0.8648], device='cuda:0', grad_fn=<AddBackward0>)\n"
          ]
        }
      ]
    },
    {
      "cell_type": "code",
      "source": [
        "print(\"\\nComputing model accuracy\")\n",
        "net.eval()\n",
        "acc_train = accuracy(net,train_dat, 0.40) \n",
        "print(\"Accuracy (within 0.20) on train data = %0.4f\" % \\\n",
        "      acc_train)\n",
        "\n",
        "acc_test = accuracy(net,test_dat, 0.20) \n",
        "print(\"Accuracy (within 0.20) on test data  = %0.4f\" % \\\n",
        "      acc_test)"
      ],
      "metadata": {
        "colab": {
          "base_uri": "https://localhost:8080/"
        },
        "id": "KwdwwRi9z9b1",
        "outputId": "883cf9e7-c37f-424f-feae-dfd0ce2e4354"
      },
      "execution_count": null,
      "outputs": [
        {
          "output_type": "stream",
          "name": "stdout",
          "text": [
            "\n",
            "Computing model accuracy\n",
            "tensor([[0.2571],\n",
            "        [0.2571],\n",
            "        [0.2571],\n",
            "        ...,\n",
            "        [0.2571],\n",
            "        [0.2571],\n",
            "        [0.2571]], device='cuda:0')\n",
            "Accuracy (within 0.20) on train data = 0.0558\n",
            "tensor([[0.2571],\n",
            "        [0.2571],\n",
            "        [0.2571],\n",
            "        ...,\n",
            "        [0.2571],\n",
            "        [0.2571],\n",
            "        [0.2571]], device='cuda:0')\n",
            "Accuracy (within 0.20) on test data  = 0.0132\n"
          ]
        }
      ]
    },
    {
      "cell_type": "code",
      "source": [
        "import pandas as pd\n",
        "df = pd.read_csv(\"Analysis_Trial_final_2.csv\")\n",
        "\n"
      ],
      "metadata": {
        "id": "rpJ-1FIBzyCW"
      },
      "execution_count": null,
      "outputs": []
    },
    {
      "cell_type": "code",
      "source": [
        "\n",
        "lst2 = [i for i in lst if str(i)!='nan']\n",
        "len(lst2)"
      ],
      "metadata": {
        "colab": {
          "base_uri": "https://localhost:8080/"
        },
        "id": "tckUdCmq3EFq",
        "outputId": "f53b6c16-6f7c-4beb-b96e-2846cb34da8c"
      },
      "execution_count": null,
      "outputs": [
        {
          "output_type": "execute_result",
          "data": {
            "text/plain": [
              "99992"
            ]
          },
          "metadata": {},
          "execution_count": 10
        }
      ]
    },
    {
      "cell_type": "code",
      "source": [
        "df[\"Actual\"] = lst2"
      ],
      "metadata": {
        "id": "LD7QEu5C2i-x"
      },
      "execution_count": null,
      "outputs": []
    },
    {
      "cell_type": "code",
      "source": [
        "df.to_csv(\"actual_score_data.csv\")"
      ],
      "metadata": {
        "id": "Hn93ji7X4MMC"
      },
      "execution_count": null,
      "outputs": []
    },
    {
      "cell_type": "code",
      "source": [
        "df.iloc[:,6:7]"
      ],
      "metadata": {
        "colab": {
          "base_uri": "https://localhost:8080/",
          "height": 424
        },
        "id": "edk4P2QB5SJN",
        "outputId": "4a0909eb-0c99-460d-99d4-0b90698420ca"
      },
      "execution_count": null,
      "outputs": [
        {
          "output_type": "execute_result",
          "data": {
            "text/plain": [
              "         Actual\n",
              "0      1.319510\n",
              "1      1.325713\n",
              "2      1.308239\n",
              "3      0.458899\n",
              "4      0.929964\n",
              "...         ...\n",
              "99987  1.301711\n",
              "99988 -0.882188\n",
              "99989  1.162358\n",
              "99990  0.728620\n",
              "99991  0.648568\n",
              "\n",
              "[99992 rows x 1 columns]"
            ],
            "text/html": [
              "\n",
              "  <div id=\"df-ea535958-0d86-4952-abe6-7f7f1bd928ad\">\n",
              "    <div class=\"colab-df-container\">\n",
              "      <div>\n",
              "<style scoped>\n",
              "    .dataframe tbody tr th:only-of-type {\n",
              "        vertical-align: middle;\n",
              "    }\n",
              "\n",
              "    .dataframe tbody tr th {\n",
              "        vertical-align: top;\n",
              "    }\n",
              "\n",
              "    .dataframe thead th {\n",
              "        text-align: right;\n",
              "    }\n",
              "</style>\n",
              "<table border=\"1\" class=\"dataframe\">\n",
              "  <thead>\n",
              "    <tr style=\"text-align: right;\">\n",
              "      <th></th>\n",
              "      <th>Actual</th>\n",
              "    </tr>\n",
              "  </thead>\n",
              "  <tbody>\n",
              "    <tr>\n",
              "      <th>0</th>\n",
              "      <td>1.319510</td>\n",
              "    </tr>\n",
              "    <tr>\n",
              "      <th>1</th>\n",
              "      <td>1.325713</td>\n",
              "    </tr>\n",
              "    <tr>\n",
              "      <th>2</th>\n",
              "      <td>1.308239</td>\n",
              "    </tr>\n",
              "    <tr>\n",
              "      <th>3</th>\n",
              "      <td>0.458899</td>\n",
              "    </tr>\n",
              "    <tr>\n",
              "      <th>4</th>\n",
              "      <td>0.929964</td>\n",
              "    </tr>\n",
              "    <tr>\n",
              "      <th>...</th>\n",
              "      <td>...</td>\n",
              "    </tr>\n",
              "    <tr>\n",
              "      <th>99987</th>\n",
              "      <td>1.301711</td>\n",
              "    </tr>\n",
              "    <tr>\n",
              "      <th>99988</th>\n",
              "      <td>-0.882188</td>\n",
              "    </tr>\n",
              "    <tr>\n",
              "      <th>99989</th>\n",
              "      <td>1.162358</td>\n",
              "    </tr>\n",
              "    <tr>\n",
              "      <th>99990</th>\n",
              "      <td>0.728620</td>\n",
              "    </tr>\n",
              "    <tr>\n",
              "      <th>99991</th>\n",
              "      <td>0.648568</td>\n",
              "    </tr>\n",
              "  </tbody>\n",
              "</table>\n",
              "<p>99992 rows × 1 columns</p>\n",
              "</div>\n",
              "      <button class=\"colab-df-convert\" onclick=\"convertToInteractive('df-ea535958-0d86-4952-abe6-7f7f1bd928ad')\"\n",
              "              title=\"Convert this dataframe to an interactive table.\"\n",
              "              style=\"display:none;\">\n",
              "        \n",
              "  <svg xmlns=\"http://www.w3.org/2000/svg\" height=\"24px\"viewBox=\"0 0 24 24\"\n",
              "       width=\"24px\">\n",
              "    <path d=\"M0 0h24v24H0V0z\" fill=\"none\"/>\n",
              "    <path d=\"M18.56 5.44l.94 2.06.94-2.06 2.06-.94-2.06-.94-.94-2.06-.94 2.06-2.06.94zm-11 1L8.5 8.5l.94-2.06 2.06-.94-2.06-.94L8.5 2.5l-.94 2.06-2.06.94zm10 10l.94 2.06.94-2.06 2.06-.94-2.06-.94-.94-2.06-.94 2.06-2.06.94z\"/><path d=\"M17.41 7.96l-1.37-1.37c-.4-.4-.92-.59-1.43-.59-.52 0-1.04.2-1.43.59L10.3 9.45l-7.72 7.72c-.78.78-.78 2.05 0 2.83L4 21.41c.39.39.9.59 1.41.59.51 0 1.02-.2 1.41-.59l7.78-7.78 2.81-2.81c.8-.78.8-2.07 0-2.86zM5.41 20L4 18.59l7.72-7.72 1.47 1.35L5.41 20z\"/>\n",
              "  </svg>\n",
              "      </button>\n",
              "      \n",
              "  <style>\n",
              "    .colab-df-container {\n",
              "      display:flex;\n",
              "      flex-wrap:wrap;\n",
              "      gap: 12px;\n",
              "    }\n",
              "\n",
              "    .colab-df-convert {\n",
              "      background-color: #E8F0FE;\n",
              "      border: none;\n",
              "      border-radius: 50%;\n",
              "      cursor: pointer;\n",
              "      display: none;\n",
              "      fill: #1967D2;\n",
              "      height: 32px;\n",
              "      padding: 0 0 0 0;\n",
              "      width: 32px;\n",
              "    }\n",
              "\n",
              "    .colab-df-convert:hover {\n",
              "      background-color: #E2EBFA;\n",
              "      box-shadow: 0px 1px 2px rgba(60, 64, 67, 0.3), 0px 1px 3px 1px rgba(60, 64, 67, 0.15);\n",
              "      fill: #174EA6;\n",
              "    }\n",
              "\n",
              "    [theme=dark] .colab-df-convert {\n",
              "      background-color: #3B4455;\n",
              "      fill: #D2E3FC;\n",
              "    }\n",
              "\n",
              "    [theme=dark] .colab-df-convert:hover {\n",
              "      background-color: #434B5C;\n",
              "      box-shadow: 0px 1px 3px 1px rgba(0, 0, 0, 0.15);\n",
              "      filter: drop-shadow(0px 1px 2px rgba(0, 0, 0, 0.3));\n",
              "      fill: #FFFFFF;\n",
              "    }\n",
              "  </style>\n",
              "\n",
              "      <script>\n",
              "        const buttonEl =\n",
              "          document.querySelector('#df-ea535958-0d86-4952-abe6-7f7f1bd928ad button.colab-df-convert');\n",
              "        buttonEl.style.display =\n",
              "          google.colab.kernel.accessAllowed ? 'block' : 'none';\n",
              "\n",
              "        async function convertToInteractive(key) {\n",
              "          const element = document.querySelector('#df-ea535958-0d86-4952-abe6-7f7f1bd928ad');\n",
              "          const dataTable =\n",
              "            await google.colab.kernel.invokeFunction('convertToInteractive',\n",
              "                                                     [key], {});\n",
              "          if (!dataTable) return;\n",
              "\n",
              "          const docLinkHtml = 'Like what you see? Visit the ' +\n",
              "            '<a target=\"_blank\" href=https://colab.research.google.com/notebooks/data_table.ipynb>data table notebook</a>'\n",
              "            + ' to learn more about interactive tables.';\n",
              "          element.innerHTML = '';\n",
              "          dataTable['output_type'] = 'display_data';\n",
              "          await google.colab.output.renderOutput(dataTable, element);\n",
              "          const docLink = document.createElement('div');\n",
              "          docLink.innerHTML = docLinkHtml;\n",
              "          element.appendChild(docLink);\n",
              "        }\n",
              "      </script>\n",
              "    </div>\n",
              "  </div>\n",
              "  "
            ]
          },
          "metadata": {},
          "execution_count": 16
        }
      ]
    }
  ]
}