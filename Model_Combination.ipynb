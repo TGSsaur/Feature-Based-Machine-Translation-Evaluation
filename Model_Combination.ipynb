{
  "nbformat": 4,
  "nbformat_minor": 0,
  "metadata": {
    "colab": {
      "provenance": []
    },
    "kernelspec": {
      "name": "python3",
      "display_name": "Python 3"
    },
    "language_info": {
      "name": "python"
    },
    "accelerator": "GPU",
    "gpuClass": "standard"
  },
  "cells": [
    {
      "cell_type": "code",
      "execution_count": null,
      "metadata": {
        "id": "Et097usNKiNP",
        "colab": {
          "base_uri": "https://localhost:8080/"
        },
        "outputId": "9a3188b3-5e6e-4773-f804-b465c76703b7"
      },
      "outputs": [
        {
          "output_type": "execute_result",
          "data": {
            "text/plain": [
              "RandomForestRegressor(n_estimators=150, random_state=42)"
            ]
          },
          "metadata": {},
          "execution_count": 18
        }
      ],
      "source": [
        "from sklearn.ensemble import RandomForestRegressor\n",
        "import numpy as np\n",
        "import pandas as pd\n",
        "from sklearn.model_selection import train_test_split\n",
        "train_f = pd.read_csv(\"actual_score_data.csv\")\n",
        "ftr_score = train_f.iloc[:,4:7].to_numpy()\n",
        "scores = train_f.iloc[:,7:8].to_numpy().ravel()\n",
        "\n",
        "#X_train,X_test,y_train,y_test = train_test_split(ftr_score,scores,test_size=0.2,random_state=42)\n",
        "\n",
        "regressor = RandomForestRegressor(n_estimators=150,random_state=42)\n",
        "regressor.fit(ftr_score,scores)\n"
      ]
    },
    {
      "cell_type": "code",
      "source": [
        "dft = pd.read_csv('Data_with_comet.csv')\n",
        "\n",
        "X_test = dft.iloc[:,10:13].to_numpy()\n",
        "y_test = dft.iloc[:,13:14].to_numpy().reshape(-1,1)\n",
        "pred = regressor.predict(X_test)\n",
        "y_act=[]\n",
        "for ele in y_test:\n",
        "  y_act.append(ele[0])"
      ],
      "metadata": {
        "id": "fxL6uv3Nd0o7"
      },
      "execution_count": null,
      "outputs": []
    },
    {
      "cell_type": "code",
      "source": [
        "from scipy.stats import pearsonr\n",
        "corr, _ = pearsonr(y_act,pred)\n",
        "print('Pearsons correlation: %.3f' % corr)"
      ],
      "metadata": {
        "colab": {
          "base_uri": "https://localhost:8080/"
        },
        "id": "gKZlBCAOfIP9",
        "outputId": "08f92dd5-7ecd-4c94-b93f-4eb5db91e03a"
      },
      "execution_count": null,
      "outputs": [
        {
          "output_type": "stream",
          "name": "stdout",
          "text": [
            "Pearsons correlation: 0.119\n"
          ]
        }
      ]
    },
    {
      "cell_type": "code",
      "source": [
        "import csv\n",
        "data=[]\n",
        "for i in range(len(y_act)):\n",
        "  data.append([y_act[i],pred[i]])\n",
        "header=['Actual Score','Decision Tree']\n",
        "with open('Predicted_Scores.csv','w') as f:\n",
        "  fwriter = csv.writer(f)\n",
        "  fwriter.writerow(header)\n",
        "  fwriter.writerows(data)"
      ],
      "metadata": {
        "id": "w4u6ir8SPMaF"
      },
      "execution_count": null,
      "outputs": []
    },
    {
      "cell_type": "code",
      "source": [
        "pre = regressor.predict(X_test)\n",
        "list1 = train_f.iloc[:,8:9].values.tolist()\n",
        "list2 = []\n",
        "for i in range(len(list1)):\n",
        "  ele = (list1[i][0]-min(list1)[0])/(max(list1)[0] - min(list1)[0])\n",
        "  list2.append(ele)"
      ],
      "metadata": {
        "id": "5sD3vRjYgr_7"
      },
      "execution_count": null,
      "outputs": []
    },
    {
      "cell_type": "code",
      "source": [
        "dtemp = pd.read_csv('Predicted_Scores.csv')\n",
        "dtemp['RFR'] = pred\n",
        "dtemp.to_csv('Predicted_Scores.csv')\n"
      ],
      "metadata": {
        "id": "kgfqBAPdm6JN"
      },
      "execution_count": null,
      "outputs": []
    },
    {
      "cell_type": "code",
      "source": [
        "min(list1)[0]"
      ],
      "metadata": {
        "colab": {
          "base_uri": "https://localhost:8080/"
        },
        "id": "od8xFhMfmXhL",
        "outputId": "7d33c09f-9601-4977-dec5-fdf489d2dc03"
      },
      "execution_count": null,
      "outputs": [
        {
          "output_type": "execute_result",
          "data": {
            "text/plain": [
              "1.0"
            ]
          },
          "metadata": {},
          "execution_count": 26
        }
      ]
    },
    {
      "cell_type": "code",
      "source": [
        "from sklearn.metrics import r2_score\n",
        "rscore = r2_score(pred,y_act)"
      ],
      "metadata": {
        "id": "FE0_IwERf0fS",
        "colab": {
          "base_uri": "https://localhost:8080/",
          "height": 183
        },
        "outputId": "e7fba842-ca21-4d1b-d3e0-7b47651b314d"
      },
      "execution_count": null,
      "outputs": [
        {
          "output_type": "error",
          "ename": "NameError",
          "evalue": "ignored",
          "traceback": [
            "\u001b[0;31m---------------------------------------------------------------------------\u001b[0m",
            "\u001b[0;31mNameError\u001b[0m                                 Traceback (most recent call last)",
            "\u001b[0;32m<ipython-input-6-bb50d5ab383a>\u001b[0m in \u001b[0;36m<module>\u001b[0;34m()\u001b[0m\n\u001b[1;32m      1\u001b[0m \u001b[0;32mfrom\u001b[0m \u001b[0msklearn\u001b[0m\u001b[0;34m.\u001b[0m\u001b[0mmetrics\u001b[0m \u001b[0;32mimport\u001b[0m \u001b[0mr2_score\u001b[0m\u001b[0;34m\u001b[0m\u001b[0;34m\u001b[0m\u001b[0m\n\u001b[0;32m----> 2\u001b[0;31m \u001b[0mrscore\u001b[0m \u001b[0;34m=\u001b[0m \u001b[0mr2_score\u001b[0m\u001b[0;34m(\u001b[0m\u001b[0mpred\u001b[0m\u001b[0;34m,\u001b[0m\u001b[0my_act\u001b[0m\u001b[0;34m)\u001b[0m\u001b[0;34m\u001b[0m\u001b[0;34m\u001b[0m\u001b[0m\n\u001b[0m",
            "\u001b[0;31mNameError\u001b[0m: name 'pred' is not defined"
          ]
        }
      ]
    },
    {
      "cell_type": "code",
      "source": [
        "rscore"
      ],
      "metadata": {
        "colab": {
          "base_uri": "https://localhost:8080/"
        },
        "id": "GFSxGACXhLQs",
        "outputId": "32d34d4d-9c55-4580-c371-2e80b71273d6"
      },
      "execution_count": null,
      "outputs": [
        {
          "output_type": "execute_result",
          "data": {
            "text/plain": [
              "-16.04568812395575"
            ]
          },
          "metadata": {},
          "execution_count": 15
        }
      ]
    },
    {
      "cell_type": "code",
      "source": [
        "from scipy.stats import pearsonr\n",
        "corr, _ = pearsonr(y_test,pre)\n",
        "print('Pearsons correlation: %.3f' % corr)\n"
      ],
      "metadata": {
        "id": "RyvbZSa4fnyq",
        "colab": {
          "base_uri": "https://localhost:8080/"
        },
        "outputId": "926b93b0-2653-4ab0-802e-cff4a586e224"
      },
      "execution_count": null,
      "outputs": [
        {
          "output_type": "stream",
          "name": "stdout",
          "text": [
            "Pearsons correlation: 0.671\n"
          ]
        }
      ]
    },
    {
      "cell_type": "code",
      "source": [
        "APE=100*(abs(y_test-pre)/y_test)\n",
        "\n",
        "print(pre)\n",
        "acr,rscore = accuracy(y_test,pre,0.2)\n",
        "print('The Accuracy of SVR model with {} tolerance is {}:'.format(acr,0.8))\n",
        "print('The r2 Score of SVR model is {}:'.format(rscore))"
      ],
      "metadata": {
        "id": "f146zssTfzkz"
      },
      "execution_count": null,
      "outputs": []
    },
    {
      "cell_type": "code",
      "source": [],
      "metadata": {
        "id": "TzgNSflR-nIB"
      },
      "execution_count": null,
      "outputs": []
    },
    {
      "cell_type": "markdown",
      "source": [
        "# LSTM RNN AND Bi-LSTM RNN"
      ],
      "metadata": {
        "id": "kUkFnEzc3Qw7"
      }
    },
    {
      "cell_type": "code",
      "source": [
        "import pandas as pd\n",
        "import numpy as np\n",
        "import matplotlib.pyplot as plt\n",
        "import seaborn as sns\n",
        "from sklearn import preprocessing\n",
        "from keras.models import Sequential\n",
        "from keras.layers import Bidirectional, LSTM, Dropout, Dense"
      ],
      "metadata": {
        "id": "9xbLj2jU3X4f"
      },
      "execution_count": null,
      "outputs": []
    },
    {
      "cell_type": "code",
      "source": [
        "train_f = pd.read_csv(\"actual_score_data.csv\")\n",
        "x_train = train_f.iloc[:,4:7].to_numpy()\n",
        "y_train = train_f.iloc[:,7:8].to_numpy()\n",
        "x_train = np.reshape(x_train,(x_train.shape[0], x_train.shape[1], \n",
        "                                   1))\n",
        "#x_test = np.reshape(x_test, (x_test.shape[0],x_test.shape[1],1))"
      ],
      "metadata": {
        "id": "UA_zx_QU32_L"
      },
      "execution_count": null,
      "outputs": []
    },
    {
      "cell_type": "code",
      "source": [
        "y_train.shape"
      ],
      "metadata": {
        "colab": {
          "base_uri": "https://localhost:8080/"
        },
        "id": "zHG6YwDF6LJ1",
        "outputId": "c094260b-8cc5-4df6-ed81-af760adab719"
      },
      "execution_count": null,
      "outputs": [
        {
          "output_type": "execute_result",
          "data": {
            "text/plain": [
              "(99992, 1)"
            ]
          },
          "metadata": {},
          "execution_count": 6
        }
      ]
    },
    {
      "cell_type": "code",
      "source": [
        "# Building the model\n",
        "model = Sequential()\n",
        "# Adding a Bidirectional LSTM layer\n",
        "model.add(Bidirectional(LSTM(64,return_sequences=True, dropout=0.5, input_shape=(x_train.shape[1], x_train.shape[-1]))))\n",
        "model.add(Bidirectional(LSTM(20, dropout=0.5)))\n",
        "model.add(Dense(1))\n",
        "model.compile(loss='mse', optimizer='rmsprop')"
      ],
      "metadata": {
        "id": "eLr-Dbsg3uSQ"
      },
      "execution_count": null,
      "outputs": []
    },
    {
      "cell_type": "code",
      "source": [
        "import tensorflow as tf\n",
        "tf.config.run_functions_eagerly(True)\n",
        "model.fit(x_train, y_train, batch_size=30, epochs=50)"
      ],
      "metadata": {
        "colab": {
          "base_uri": "https://localhost:8080/"
        },
        "id": "edII8ssu4lFL",
        "outputId": "2f15f594-1703-43c8-f013-e44272394260"
      },
      "execution_count": null,
      "outputs": [
        {
          "output_type": "stream",
          "name": "stdout",
          "text": [
            "Epoch 1/50\n"
          ]
        },
        {
          "output_type": "stream",
          "name": "stderr",
          "text": [
            "/usr/local/lib/python3.7/dist-packages/tensorflow/python/data/ops/structured_function.py:265: UserWarning: Even though the `tf.config.experimental_run_functions_eagerly` option is set, this option does not apply to tf.data functions. To force eager execution of tf.data functions, please use `tf.data.experimental.enable_debug_mode()`.\n",
            "  \"Even though the `tf.config.experimental_run_functions_eagerly` \"\n"
          ]
        },
        {
          "output_type": "stream",
          "name": "stdout",
          "text": [
            "3334/3334 [==============================] - 196s 57ms/step - loss: 0.3652\n",
            "Epoch 2/50\n",
            "3334/3334 [==============================] - 188s 56ms/step - loss: 0.3621\n",
            "Epoch 3/50\n",
            "3334/3334 [==============================] - 187s 56ms/step - loss: 0.3617\n",
            "Epoch 4/50\n",
            "3334/3334 [==============================] - 187s 56ms/step - loss: 0.3615\n",
            "Epoch 5/50\n",
            "3334/3334 [==============================] - 187s 56ms/step - loss: 0.3614\n",
            "Epoch 6/50\n",
            "3334/3334 [==============================] - 187s 56ms/step - loss: 0.3613\n",
            "Epoch 7/50\n",
            "3334/3334 [==============================] - 186s 56ms/step - loss: 0.3613\n",
            "Epoch 8/50\n",
            "3334/3334 [==============================] - 186s 56ms/step - loss: 0.3615\n",
            "Epoch 9/50\n",
            "3334/3334 [==============================] - 185s 55ms/step - loss: 0.3614\n",
            "Epoch 10/50\n",
            "3334/3334 [==============================] - 185s 56ms/step - loss: 0.3614\n",
            "Epoch 11/50\n",
            "3334/3334 [==============================] - 186s 56ms/step - loss: 0.3614\n",
            "Epoch 12/50\n",
            "3334/3334 [==============================] - 187s 56ms/step - loss: 0.3613\n",
            "Epoch 13/50\n",
            "3334/3334 [==============================] - 187s 56ms/step - loss: 0.3614\n",
            "Epoch 14/50\n",
            "3334/3334 [==============================] - 187s 56ms/step - loss: 0.3612\n",
            "Epoch 15/50\n",
            "3334/3334 [==============================] - 186s 56ms/step - loss: 0.3613\n",
            "Epoch 16/50\n",
            "3334/3334 [==============================] - 187s 56ms/step - loss: 0.3613\n",
            "Epoch 17/50\n",
            "3334/3334 [==============================] - 188s 56ms/step - loss: 0.3612\n",
            "Epoch 18/50\n",
            "3334/3334 [==============================] - 186s 56ms/step - loss: 0.3613\n",
            "Epoch 19/50\n",
            "1678/3334 [==============>...............] - ETA: 1:32 - loss: 0.3635"
          ]
        }
      ]
    },
    {
      "cell_type": "code",
      "source": [
        "test_f = pd.read_csv('Data_with_comet.csv')\n",
        "x_test = test_f.iloc[:,10:13].to_numpy()\n",
        "y_test = test_f.iloc[:,13:14].to_numpy().ravel()\n",
        "x_test = np.reshape(x_test, (x_test.shape[0],x_test.shape[1],1))\n",
        "y_pred = model.predict(x_test)"
      ],
      "metadata": {
        "colab": {
          "base_uri": "https://localhost:8080/"
        },
        "id": "8M8RpcUU42nX",
        "outputId": "ecd42769-6b4e-4e29-a2e1-e9405408befe"
      },
      "execution_count": null,
      "outputs": [
        {
          "output_type": "stream",
          "name": "stderr",
          "text": [
            "/usr/local/lib/python3.7/dist-packages/tensorflow/python/data/ops/structured_function.py:265: UserWarning: Even though the `tf.config.experimental_run_functions_eagerly` option is set, this option does not apply to tf.data functions. To force eager execution of tf.data functions, please use `tf.data.experimental.enable_debug_mode()`.\n",
            "  \"Even though the `tf.config.experimental_run_functions_eagerly` \"\n"
          ]
        }
      ]
    },
    {
      "cell_type": "code",
      "source": [
        "from scipy.stats import pearsonr\n",
        "corr, _ = pearsonr(y_test,y_pred)\n",
        "print('Pearsons correlation: %.3f' % corr)"
      ],
      "metadata": {
        "colab": {
          "base_uri": "https://localhost:8080/"
        },
        "id": "Eotvwa5kzuUy",
        "outputId": "c052c219-08b9-45c4-b25c-af6b5541c3c0"
      },
      "execution_count": null,
      "outputs": [
        {
          "output_type": "stream",
          "name": "stdout",
          "text": [
            "Pearsons correlation: 0.427\n"
          ]
        }
      ]
    }
  ]
}